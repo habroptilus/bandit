{
 "cells": [
  {
   "cell_type": "code",
   "execution_count": 1,
   "metadata": {},
   "outputs": [],
   "source": [
    "# import\n",
    "from arm import BernoulliArm\n",
    "from greedy import Greedy\n",
    "from e_greedy import Epsilon_greedy\n",
    "from softmax import Softmax\n",
    "import matplotlib.pyplot as plt\n",
    "import numpy as np\n",
    "%matplotlib inline"
   ]
  },
  {
   "cell_type": "code",
   "execution_count": 2,
   "metadata": {},
   "outputs": [],
   "source": [
    "def mean_cumulative_reward(df_list):\n",
    "    \"\"\"累積報酬の平均を算出する\n",
    "    \n",
    "    :param df_list: DataFrameのリスト\n",
    "    :return reward\n",
    "    \"\"\"\n",
    "    return sum([df[\"reward\"].sum() for df in df_list])/len(df_list)"
   ]
  },
  {
   "cell_type": "code",
   "execution_count": 3,
   "metadata": {},
   "outputs": [],
   "source": [
    "def hit_rate(df_list):\n",
    "    \"\"\"各時刻の当たり率を時系列リストにして返す\n",
    "    \n",
    "    :param df_list: DataFrameのリスト\n",
    "    :return hit_rate_list: list of hit rate (float, 0~1)\n",
    "    \"\"\"\n",
    "    return list(sum([df[\"reward\"] for df in df_list])/len(df_list))"
   ]
  },
  {
   "cell_type": "code",
   "execution_count": 4,
   "metadata": {},
   "outputs": [],
   "source": [
    "def best_arm_rate(df_list,best_arm):\n",
    "    \"\"\"各時刻の最適アーム選択率を時系列リストにして返す\n",
    "    \n",
    "    :param df_list: DataFrameのリスト\n",
    "    :param best_arm: (int) 最適なアームのインデックス(最適なアームとは報酬の期待値が最大のアーム)\n",
    "    :return best_arm_rate_list: list of best arm rate (float, 0~1)\n",
    "    \"\"\"\n",
    "    for df in df_list:\n",
    "        df[\"is_best\"]=df[\"arm\"].apply(lambda x: 1 if x==best_arm  else 0)\n",
    "    return list(sum([df[\"is_best\"] for df in df_list])/len(df_list))"
   ]
  },
  {
   "cell_type": "code",
   "execution_count": 5,
   "metadata": {},
   "outputs": [],
   "source": [
    "def simulate(alg,outer_iter):\n",
    "    \"\"\"Simulate algrithm.\n",
    "    \n",
    "    :param alg: algorithm for bandit problem\n",
    "    :param outer_iter: the number of Monte Carlo method simulation\n",
    "    :return hit_rate, best_arm_rate, cumulative_reward\n",
    "    \"\"\"\n",
    "    df_list=[]\n",
    "    for i in range(outer_iter):\n",
    "            df=alg.execute()\n",
    "            df_list.append(df)\n",
    "    \n",
    "    mu_list=[alg.arms[i].mu for i in range(alg.K)]\n",
    "    best_arm=mu_list.index(max(mu_list))\n",
    "    return hit_rate(df_list),best_arm_rate(df_list,best_arm),mean_cumulative_reward(df_list)"
   ]
  },
  {
   "cell_type": "code",
   "execution_count": 6,
   "metadata": {},
   "outputs": [],
   "source": [
    "def plot_rate(rate_list,N,algos,title):\n",
    "    \"\"\"Plot each rate(\"Best Arm Rate\" or \"Hit Rate\").\n",
    "    \n",
    "    :param rate_list: list of rate(float)\n",
    "    :param N:the number of trials(int)\n",
    "    :param algos: list of name of algorithm\n",
    "    :param title: str.  Expect \"Best Arm Rate\" or \"Hit Rate\"\n",
    "    \"\"\"\n",
    "    x = np.arange(N)\n",
    "    plt.title(title)\n",
    "    for i in range(len(rate_list)):\n",
    "        plt.plot(x, rate_list[i], label=algos[i])\n",
    "    plt.xlabel(\"trial\")\n",
    "    plt.ylabel(\"rate\")\n",
    "    plt.legend()\n",
    "    plt.show()\n",
    "    plt.close()\n",
    "    return"
   ]
  },
  {
   "cell_type": "code",
   "execution_count": 7,
   "metadata": {},
   "outputs": [],
   "source": [
    "def plot_cumulative_reward(rewards,algos):\n",
    "    \"\"\"Plot mean cumulative rewards of each algorithm.\n",
    "    \n",
    "    :param rewards: list of reward (int)\n",
    "    :param algos: list of algorithm name (str)\n",
    "    \"\"\"\n",
    "    x = np.array(range(len(rewards)))\n",
    "    y= np.array(rewards)\n",
    "    plt.bar(x,y,tick_label=algos, align=\"center\")\n",
    "    plt.show()\n",
    "    plt.close()\n",
    "    return"
   ]
  },
  {
   "cell_type": "code",
   "execution_count": 13,
   "metadata": {},
   "outputs": [],
   "source": [
    "# set parameters\n",
    "mus = [0.1,0.4,0.1, 0.1, 0.1, 0.1,0.1,]\n",
    "arms = [BernoulliArm(mu) for mu in mus]\n",
    "N=2000\n",
    "outer_iter=100\n",
    "e=0.3\n",
    "temp=0.1"
   ]
  },
  {
   "cell_type": "code",
   "execution_count": 14,
   "metadata": {},
   "outputs": [],
   "source": [
    "# create algorithm instance\n",
    "algos = [Greedy(arms,N),Epsilon_greedy(e,arms,N),Softmax(temp,arms,N)]\n",
    "algo_names=[\"Greedy\",\"e-greedy(e={})\".format(e),\"softmax(temp={})\".format(temp)]"
   ]
  },
  {
   "cell_type": "code",
   "execution_count": null,
   "metadata": {},
   "outputs": [
    {
     "name": "stdout",
     "output_type": "stream",
     "text": [
      "Simulating <Greedy> N=2000 Arms=[BernoulliArm(0.1), BernoulliArm(0.4), BernoulliArm(0.1), BernoulliArm(0.1), BernoulliArm(0.1), BernoulliArm(0.1), BernoulliArm(0.1)]\n",
      "Mean Cumulative Reward : 198.5\n",
      "Simulating <e-Greedy> N=2000 Arms=[BernoulliArm(0.1), BernoulliArm(0.4), BernoulliArm(0.1), BernoulliArm(0.1), BernoulliArm(0.1), BernoulliArm(0.1), BernoulliArm(0.1)] e=0.3\n"
     ]
    }
   ],
   "source": [
    "# execute\n",
    "hit_rate_list=[]\n",
    "best_rate_list=[]\n",
    "reward_list=[]\n",
    "for alg in algos:\n",
    "    print(\"Simulating {}\".format(alg))\n",
    "    hit,best,reward=simulate(alg,outer_iter)\n",
    "    print(\"Mean Cumulative Reward : {}\".format(reward))\n",
    "    hit_rate_list.append(hit)\n",
    "    best_rate_list.append(best)\n",
    "    reward_list.append(reward)"
   ]
  },
  {
   "cell_type": "code",
   "execution_count": null,
   "metadata": {},
   "outputs": [],
   "source": [
    "# visualize\n",
    "plot_rate(hit_rate_list,N,algo_names,\"Hit Rate\")\n",
    "plot_rate(best_rate_list,N,algo_names,\"Best Arm Rate\")\n",
    "plot_cumulative_reward(reward_list,algo_names)"
   ]
  },
  {
   "cell_type": "code",
   "execution_count": null,
   "metadata": {},
   "outputs": [],
   "source": []
  },
  {
   "cell_type": "code",
   "execution_count": null,
   "metadata": {},
   "outputs": [],
   "source": []
  },
  {
   "cell_type": "code",
   "execution_count": null,
   "metadata": {},
   "outputs": [],
   "source": []
  }
 ],
 "metadata": {
  "kernelspec": {
   "display_name": "Python 3",
   "language": "python",
   "name": "python3"
  },
  "language_info": {
   "codemirror_mode": {
    "name": "ipython",
    "version": 3
   },
   "file_extension": ".py",
   "mimetype": "text/x-python",
   "name": "python",
   "nbconvert_exporter": "python",
   "pygments_lexer": "ipython3",
   "version": "3.6.2"
  }
 },
 "nbformat": 4,
 "nbformat_minor": 2
}
