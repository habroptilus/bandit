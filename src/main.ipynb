{
 "cells": [
  {
   "cell_type": "code",
   "execution_count": 1,
   "metadata": {},
   "outputs": [
    {
     "name": "stdout",
     "output_type": "stream",
     "text": [
      "<BernoulliArm> mu: 0.8 hit/trial: 0/0\n",
      "<Greedy> N=1000 Arms=[BernoulliArm(0.1), BernoulliArm(0.6), BernoulliArm(0.8), BernoulliArm(0.2)]\n"
     ]
    }
   ],
   "source": [
    "# import\n",
    "from arm import BernoulliArm\n",
    "from greedy import Greedy"
   ]
  },
  {
   "cell_type": "code",
   "execution_count": 5,
   "metadata": {},
   "outputs": [],
   "source": [
    "def mean_cumulative_reward(df_list):\n",
    "    \"\"\"累積報酬の平均を算出する\n",
    "    \n",
    "    :param df_list: DataFrameのリスト\n",
    "    :return reward\n",
    "    \"\"\"\n",
    "    return sum([df[\"reward\"].sum() for df in df_list])"
   ]
  },
  {
   "cell_type": "code",
   "execution_count": 24,
   "metadata": {},
   "outputs": [
    {
     "ename": "SyntaxError",
     "evalue": "unexpected EOF while parsing (<ipython-input-24-1b1985803158>, line 7)",
     "output_type": "error",
     "traceback": [
      "\u001b[0;36m  File \u001b[0;32m\"<ipython-input-24-1b1985803158>\"\u001b[0;36m, line \u001b[0;32m7\u001b[0m\n\u001b[0;31m    return list(sum([df[\"reward\"] for df in df_list])\u001b[0m\n\u001b[0m                                                     ^\u001b[0m\n\u001b[0;31mSyntaxError\u001b[0m\u001b[0;31m:\u001b[0m unexpected EOF while parsing\n"
     ]
    }
   ],
   "source": [
    "def hit_rate(df_list):\n",
    "    \"\"\"各時刻の当たり率を時系列リストにして返す\n",
    "    \n",
    "    :param df_list: DataFrameのリスト\n",
    "    :return hit_rate_list: list of hit rate (float, 0~1)\n",
    "    \"\"\"\n",
    "    return list(sum([df[\"reward\"] for df in df_list])/len(df_list))"
   ]
  },
  {
   "cell_type": "code",
   "execution_count": 25,
   "metadata": {},
   "outputs": [],
   "source": [
    "def best_arm_rate(df_list,best_arm):\n",
    "    \"\"\"各時刻の最適アーム選択率を時系列リストにして返す\n",
    "    :param df_list: DataFrameのリスト\n",
    "    :param best_arm: (int) 最適なアームのインデックス(最適なアームとは報酬の期待値が最大のアーム)\n",
    "    :return best_arm_rate_list: list of best arm rate (float, 0~1)\n",
    "    \"\"\"\n",
    "    for df in df_list:\n",
    "        df[\"is_best\"]=df[\"arm\"].apply(lambda x: 1 if x==best_arm  else 0)\n",
    "    print(df[])\n",
    "    print()\n",
    "    return "
   ]
  },
  {
   "cell_type": "code",
   "execution_count": null,
   "metadata": {},
   "outputs": [],
   "source": [
    "mus = [0.1, 0.6, 0.8, 0.2]\n",
    "arms = [BernoulliArm(mu) for mu in mus]\n",
    "N=1000\n",
    "alg = Greedy(arms,N)\n",
    "print(alg)"
   ]
  },
  {
   "cell_type": "code",
   "execution_count": 2,
   "metadata": {},
   "outputs": [],
   "source": [
    "df = alg.execute()"
   ]
  },
  {
   "cell_type": "code",
   "execution_count": 6,
   "metadata": {},
   "outputs": [
    {
     "data": {
      "text/plain": [
       "637"
      ]
     },
     "execution_count": 6,
     "metadata": {},
     "output_type": "execute_result"
    }
   ],
   "source": [
    "mean_cumulative_reward([df])"
   ]
  },
  {
   "cell_type": "code",
   "execution_count": 15,
   "metadata": {
    "scrolled": false
   },
   "outputs": [
    {
     "data": {
      "text/plain": [
       "1000"
      ]
     },
     "execution_count": 15,
     "metadata": {},
     "output_type": "execute_result"
    }
   ],
   "source": [
    "hit_rate([df,df])\n"
   ]
  },
  {
   "cell_type": "code",
   "execution_count": 26,
   "metadata": {
    "scrolled": true
   },
   "outputs": [
    {
     "data": {
      "text/plain": [
       "[0      0\n",
       " 1      0\n",
       " 2      1\n",
       " 3      0\n",
       " 4      0\n",
       " 5      0\n",
       " 6      0\n",
       " 7      0\n",
       " 8      0\n",
       " 9      0\n",
       " 10     0\n",
       " 11     0\n",
       " 12     0\n",
       " 13     0\n",
       " 14     0\n",
       " 15     0\n",
       " 16     0\n",
       " 17     0\n",
       " 18     0\n",
       " 19     0\n",
       " 20     0\n",
       " 21     0\n",
       " 22     0\n",
       " 23     0\n",
       " 24     0\n",
       " 25     0\n",
       " 26     0\n",
       " 27     0\n",
       " 28     0\n",
       " 29     0\n",
       "       ..\n",
       " 970    0\n",
       " 971    0\n",
       " 972    0\n",
       " 973    0\n",
       " 974    0\n",
       " 975    0\n",
       " 976    0\n",
       " 977    0\n",
       " 978    0\n",
       " 979    0\n",
       " 980    0\n",
       " 981    0\n",
       " 982    0\n",
       " 983    0\n",
       " 984    0\n",
       " 985    0\n",
       " 986    0\n",
       " 987    0\n",
       " 988    0\n",
       " 989    0\n",
       " 990    0\n",
       " 991    0\n",
       " 992    0\n",
       " 993    0\n",
       " 994    0\n",
       " 995    0\n",
       " 996    0\n",
       " 997    0\n",
       " 998    0\n",
       " 999    0\n",
       " Name: is_best, Length: 1000, dtype: int64, 0      0\n",
       " 1      0\n",
       " 2      1\n",
       " 3      0\n",
       " 4      0\n",
       " 5      0\n",
       " 6      0\n",
       " 7      0\n",
       " 8      0\n",
       " 9      0\n",
       " 10     0\n",
       " 11     0\n",
       " 12     0\n",
       " 13     0\n",
       " 14     0\n",
       " 15     0\n",
       " 16     0\n",
       " 17     0\n",
       " 18     0\n",
       " 19     0\n",
       " 20     0\n",
       " 21     0\n",
       " 22     0\n",
       " 23     0\n",
       " 24     0\n",
       " 25     0\n",
       " 26     0\n",
       " 27     0\n",
       " 28     0\n",
       " 29     0\n",
       "       ..\n",
       " 970    0\n",
       " 971    0\n",
       " 972    0\n",
       " 973    0\n",
       " 974    0\n",
       " 975    0\n",
       " 976    0\n",
       " 977    0\n",
       " 978    0\n",
       " 979    0\n",
       " 980    0\n",
       " 981    0\n",
       " 982    0\n",
       " 983    0\n",
       " 984    0\n",
       " 985    0\n",
       " 986    0\n",
       " 987    0\n",
       " 988    0\n",
       " 989    0\n",
       " 990    0\n",
       " 991    0\n",
       " 992    0\n",
       " 993    0\n",
       " 994    0\n",
       " 995    0\n",
       " 996    0\n",
       " 997    0\n",
       " 998    0\n",
       " 999    0\n",
       " Name: is_best, Length: 1000, dtype: int64]"
      ]
     },
     "execution_count": 26,
     "metadata": {},
     "output_type": "execute_result"
    }
   ],
   "source": [
    "best_arm_rate([df,df],2)"
   ]
  },
  {
   "cell_type": "code",
   "execution_count": null,
   "metadata": {},
   "outputs": [],
   "source": []
  }
 ],
 "metadata": {
  "kernelspec": {
   "display_name": "Python 3",
   "language": "python",
   "name": "python3"
  },
  "language_info": {
   "codemirror_mode": {
    "name": "ipython",
    "version": 3
   },
   "file_extension": ".py",
   "mimetype": "text/x-python",
   "name": "python",
   "nbconvert_exporter": "python",
   "pygments_lexer": "ipython3",
   "version": "3.6.2"
  }
 },
 "nbformat": 4,
 "nbformat_minor": 2
}
