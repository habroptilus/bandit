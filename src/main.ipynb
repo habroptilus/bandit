{
 "cells": [
  {
   "cell_type": "code",
   "execution_count": 48,
   "metadata": {},
   "outputs": [],
   "source": [
    "# import\n",
    "from arm import BernoulliArm\n",
    "from greedy import Greedy"
   ]
  },
  {
   "cell_type": "code",
   "execution_count": 49,
   "metadata": {},
   "outputs": [],
   "source": [
    "def mean_cumulative_reward(df_list):\n",
    "    \"\"\"累積報酬の平均を算出する\n",
    "    \n",
    "    :param df_list: DataFrameのリスト\n",
    "    :return reward\n",
    "    \"\"\"\n",
    "    return sum([df[\"reward\"].sum() for df in df_list])"
   ]
  },
  {
   "cell_type": "code",
   "execution_count": 50,
   "metadata": {},
   "outputs": [],
   "source": [
    "def hit_rate(df_list):\n",
    "    \"\"\"各時刻の当たり率を時系列リストにして返す\n",
    "    \n",
    "    :param df_list: DataFrameのリスト\n",
    "    :return hit_rate_list: list of hit rate (float, 0~1)\n",
    "    \"\"\"\n",
    "    return list(sum([df[\"reward\"] for df in df_list])/len(df_list))"
   ]
  },
  {
   "cell_type": "code",
   "execution_count": 62,
   "metadata": {},
   "outputs": [],
   "source": [
    "def best_arm_rate(df_list,best_arm):\n",
    "    \"\"\"各時刻の最適アーム選択率を時系列リストにして返す\n",
    "    \n",
    "    :param df_list: DataFrameのリスト\n",
    "    :param best_arm: (int) 最適なアームのインデックス(最適なアームとは報酬の期待値が最大のアーム)\n",
    "    :return best_arm_rate_list: list of best arm rate (float, 0~1)\n",
    "    \"\"\"\n",
    "    for df in df_list:\n",
    "        print(df.head(10))\n",
    "        df[\"is_best\"]=df[\"arm\"].apply(lambda x: 1 if x==best_arm  else 0)\n",
    "        print(df.head(10))\n",
    "    return list(sum([df[\"is_best\"] for df in df_list])/len(df_list))"
   ]
  },
  {
   "cell_type": "code",
   "execution_count": 52,
   "metadata": {},
   "outputs": [],
   "source": [
    "def simulate(alg,outer_iter):\n",
    "    \"\"\"Simulate algrithm.\n",
    "    \n",
    "    :param alg: algorithm for bandit problem\n",
    "    :param outer_iter: the number of Monte Carlo method simulation\n",
    "    :return hit_rate, best_arm_rate, cumulative_reward\n",
    "    \"\"\"\n",
    "    df_list=[]\n",
    "    for i in range(outer_iter):\n",
    "            df=alg.execute()\n",
    "            df_list.append(df)\n",
    "    \n",
    "    mu_list=[alg.arms[i].mu for i in range(alg.K)]\n",
    "    best_arm=mu_list.index(max(mu_list))\n",
    "    return hit_rate(df_list),best_arm_rate(df,best_arm),mean_cumulative_reward(df_list)"
   ]
  },
  {
   "cell_type": "code",
   "execution_count": null,
   "metadata": {},
   "outputs": [],
   "source": [
    "def plot_rate(rate_list,N,algos,title):\n",
    "    \"\"\"Plot each rate(\"Best Arm Rate\" or \"Hit Rate\").\n",
    "    \n",
    "    :param rate_list: list of rate(float)\n",
    "    :param N:the number of trials(int)\n",
    "    :param algos: list of name of algorithm\n",
    "    :param title: str.  Expect \"Best Arm Rate\" or \"Hit Rate\"\n",
    "    \"\"\"\n",
    "    x = np.arange(N)\n",
    "    plt.title(title)\n",
    "    for i in range(len(rate_list)):\n",
    "        plt.plot(x, rate_list[i], label=algos[i])\n",
    "    plt.xlabel(\"trial\")\n",
    "    plt.ylabel(\"rate\")\n",
    "    plt.legend()\n",
    "    return"
   ]
  },
  {
   "cell_type": "code",
   "execution_count": 56,
   "metadata": {},
   "outputs": [],
   "source": [
    "# set parameters\n",
    "mus = [0.1, 0.6, 0.8, 0.2]\n",
    "arms = [BernoulliArm(mu) for mu in mus]\n",
    "N=10\n",
    "outer_iter=10"
   ]
  },
  {
   "cell_type": "code",
   "execution_count": 57,
   "metadata": {},
   "outputs": [
    {
     "name": "stdout",
     "output_type": "stream",
     "text": [
      "<Greedy> N=10 Arms=[BernoulliArm(0.1), BernoulliArm(0.6), BernoulliArm(0.8), BernoulliArm(0.2)]\n"
     ]
    }
   ],
   "source": [
    "# create algorithm instance\n",
    "alg = Greedy(arms,N)\n",
    "print(alg)"
   ]
  },
  {
   "cell_type": "code",
   "execution_count": 63,
   "metadata": {},
   "outputs": [
    {
     "ename": "AttributeError",
     "evalue": "'str' object has no attribute 'head'",
     "output_type": "error",
     "traceback": [
      "\u001b[0;31m---------------------------------------------------------------------------\u001b[0m",
      "\u001b[0;31mAttributeError\u001b[0m                            Traceback (most recent call last)",
      "\u001b[0;32m<ipython-input-63-ef69a5bca353>\u001b[0m in \u001b[0;36m<module>\u001b[0;34m()\u001b[0m\n\u001b[0;32m----> 1\u001b[0;31m \u001b[0mhit\u001b[0m\u001b[0;34m,\u001b[0m\u001b[0mbest\u001b[0m\u001b[0;34m,\u001b[0m\u001b[0mreward\u001b[0m\u001b[0;34m=\u001b[0m\u001b[0msimulate\u001b[0m\u001b[0;34m(\u001b[0m\u001b[0malg\u001b[0m\u001b[0;34m,\u001b[0m\u001b[0mouter_iter\u001b[0m\u001b[0;34m)\u001b[0m\u001b[0;34m\u001b[0m\u001b[0m\n\u001b[0m\u001b[1;32m      2\u001b[0m \u001b[0mprint\u001b[0m\u001b[0;34m(\u001b[0m\u001b[0mreward\u001b[0m\u001b[0;34m)\u001b[0m\u001b[0;34m\u001b[0m\u001b[0m\n",
      "\u001b[0;32m<ipython-input-52-20e9588ef5b9>\u001b[0m in \u001b[0;36msimulate\u001b[0;34m(alg, outer_iter)\u001b[0m\n\u001b[1;32m     13\u001b[0m     \u001b[0mmu_list\u001b[0m\u001b[0;34m=\u001b[0m\u001b[0;34m[\u001b[0m\u001b[0malg\u001b[0m\u001b[0;34m.\u001b[0m\u001b[0marms\u001b[0m\u001b[0;34m[\u001b[0m\u001b[0mi\u001b[0m\u001b[0;34m]\u001b[0m\u001b[0;34m.\u001b[0m\u001b[0mmu\u001b[0m \u001b[0;32mfor\u001b[0m \u001b[0mi\u001b[0m \u001b[0;32min\u001b[0m \u001b[0mrange\u001b[0m\u001b[0;34m(\u001b[0m\u001b[0malg\u001b[0m\u001b[0;34m.\u001b[0m\u001b[0mK\u001b[0m\u001b[0;34m)\u001b[0m\u001b[0;34m]\u001b[0m\u001b[0;34m\u001b[0m\u001b[0m\n\u001b[1;32m     14\u001b[0m     \u001b[0mbest_arm\u001b[0m\u001b[0;34m=\u001b[0m\u001b[0mmu_list\u001b[0m\u001b[0;34m.\u001b[0m\u001b[0mindex\u001b[0m\u001b[0;34m(\u001b[0m\u001b[0mmax\u001b[0m\u001b[0;34m(\u001b[0m\u001b[0mmu_list\u001b[0m\u001b[0;34m)\u001b[0m\u001b[0;34m)\u001b[0m\u001b[0;34m\u001b[0m\u001b[0m\n\u001b[0;32m---> 15\u001b[0;31m     \u001b[0;32mreturn\u001b[0m \u001b[0mhit_rate\u001b[0m\u001b[0;34m(\u001b[0m\u001b[0mdf_list\u001b[0m\u001b[0;34m)\u001b[0m\u001b[0;34m,\u001b[0m\u001b[0mbest_arm_rate\u001b[0m\u001b[0;34m(\u001b[0m\u001b[0mdf\u001b[0m\u001b[0;34m,\u001b[0m\u001b[0mbest_arm\u001b[0m\u001b[0;34m)\u001b[0m\u001b[0;34m,\u001b[0m\u001b[0mmean_cumulative_reward\u001b[0m\u001b[0;34m(\u001b[0m\u001b[0mdf_list\u001b[0m\u001b[0;34m)\u001b[0m\u001b[0;34m\u001b[0m\u001b[0m\n\u001b[0m",
      "\u001b[0;32m<ipython-input-62-2fd3f404f3f9>\u001b[0m in \u001b[0;36mbest_arm_rate\u001b[0;34m(df_list, best_arm)\u001b[0m\n\u001b[1;32m      7\u001b[0m     \"\"\"\n\u001b[1;32m      8\u001b[0m     \u001b[0;32mfor\u001b[0m \u001b[0mdf\u001b[0m \u001b[0;32min\u001b[0m \u001b[0mdf_list\u001b[0m\u001b[0;34m:\u001b[0m\u001b[0;34m\u001b[0m\u001b[0m\n\u001b[0;32m----> 9\u001b[0;31m         \u001b[0mprint\u001b[0m\u001b[0;34m(\u001b[0m\u001b[0mdf\u001b[0m\u001b[0;34m.\u001b[0m\u001b[0mhead\u001b[0m\u001b[0;34m(\u001b[0m\u001b[0;36m10\u001b[0m\u001b[0;34m)\u001b[0m\u001b[0;34m)\u001b[0m\u001b[0;34m\u001b[0m\u001b[0m\n\u001b[0m\u001b[1;32m     10\u001b[0m         \u001b[0mdf\u001b[0m\u001b[0;34m[\u001b[0m\u001b[0;34m\"is_best\"\u001b[0m\u001b[0;34m]\u001b[0m\u001b[0;34m=\u001b[0m\u001b[0mdf\u001b[0m\u001b[0;34m[\u001b[0m\u001b[0;34m\"arm\"\u001b[0m\u001b[0;34m]\u001b[0m\u001b[0;34m.\u001b[0m\u001b[0mapply\u001b[0m\u001b[0;34m(\u001b[0m\u001b[0;32mlambda\u001b[0m \u001b[0mx\u001b[0m\u001b[0;34m:\u001b[0m \u001b[0;36m1\u001b[0m \u001b[0;32mif\u001b[0m \u001b[0mx\u001b[0m\u001b[0;34m==\u001b[0m\u001b[0mbest_arm\u001b[0m  \u001b[0;32melse\u001b[0m \u001b[0;36m0\u001b[0m\u001b[0;34m)\u001b[0m\u001b[0;34m\u001b[0m\u001b[0m\n\u001b[1;32m     11\u001b[0m         \u001b[0mprint\u001b[0m\u001b[0;34m(\u001b[0m\u001b[0mdf\u001b[0m\u001b[0;34m.\u001b[0m\u001b[0mhead\u001b[0m\u001b[0;34m(\u001b[0m\u001b[0;36m10\u001b[0m\u001b[0;34m)\u001b[0m\u001b[0;34m)\u001b[0m\u001b[0;34m\u001b[0m\u001b[0m\n",
      "\u001b[0;31mAttributeError\u001b[0m: 'str' object has no attribute 'head'"
     ]
    }
   ],
   "source": [
    "hit,best,reward=simulate(alg,outer_iter)\n",
    "print(reward)"
   ]
  },
  {
   "cell_type": "code",
   "execution_count": null,
   "metadata": {},
   "outputs": [],
   "source": []
  },
  {
   "cell_type": "code",
   "execution_count": null,
   "metadata": {},
   "outputs": [],
   "source": []
  },
  {
   "cell_type": "code",
   "execution_count": null,
   "metadata": {},
   "outputs": [],
   "source": [
    "def plot_cumulative_reward"
   ]
  }
 ],
 "metadata": {
  "kernelspec": {
   "display_name": "Python 3",
   "language": "python",
   "name": "python3"
  },
  "language_info": {
   "codemirror_mode": {
    "name": "ipython",
    "version": 3
   },
   "file_extension": ".py",
   "mimetype": "text/x-python",
   "name": "python",
   "nbconvert_exporter": "python",
   "pygments_lexer": "ipython3",
   "version": "3.6.2"
  }
 },
 "nbformat": 4,
 "nbformat_minor": 2
}
